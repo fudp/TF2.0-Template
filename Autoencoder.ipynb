{
 "cells": [
  {
   "cell_type": "markdown",
   "metadata": {},
   "source": [
    "# Autoencoder"
   ]
  },
  {
   "cell_type": "code",
   "execution_count": 3,
   "metadata": {},
   "outputs": [
    {
     "name": "stdout",
     "output_type": "stream",
     "text": [
      "(60000, 28, 28) (60000,)\n",
      "(10000, 28, 28) (10000,)\n"
     ]
    }
   ],
   "source": [
    "import  os\n",
    "import  tensorflow as tf\n",
    "import  numpy as np\n",
    "from    tensorflow import keras\n",
    "from    PIL import Image\n",
    "from    matplotlib import pyplot as plt\n",
    "\n",
    "tf.random.set_seed(22)\n",
    "np.random.seed(22)\n",
    "os.environ['TF_CPP_MIN_LOG_LEVEL'] = '2'\n",
    "assert tf.__version__.startswith('2.')\n",
    "\n",
    "(x_train, y_train), (x_test, y_test) = keras.datasets.mnist.load_data()\n",
    "x_train, x_test = x_train.astype(np.float32) / 255., x_test.astype(np.float32) / 255.\n",
    "print(x_train.shape, y_train.shape)\n",
    "print(x_test.shape, y_test.shape)\n",
    "# image grid\n",
    "new_im = Image.new('L', (280, 280))\n",
    "\n",
    "image_size = 28*28\n",
    "h_dim = 20\n",
    "num_epochs = 55\n",
    "batch_size = 100\n",
    "learning_rate = 1e-3"
   ]
  },
  {
   "cell_type": "code",
   "execution_count": 4,
   "metadata": {},
   "outputs": [],
   "source": [
    "class AE(tf.keras.Model):\n",
    "\n",
    "    def __init__(self):\n",
    "        super(AE, self).__init__()\n",
    "\n",
    "        # 784 => 512\n",
    "        self.fc1 = keras.layers.Dense(512)\n",
    "        # 512 => h\n",
    "        self.fc2 = keras.layers.Dense(h_dim)\n",
    "\n",
    "        # h => 512\n",
    "        self.fc3 = keras.layers.Dense(512)\n",
    "        # 512 => image\n",
    "        self.fc4 = keras.layers.Dense(image_size)\n",
    "\n",
    "    def encode(self, x):\n",
    "        x = tf.nn.relu(self.fc1(x))\n",
    "        x = (self.fc2(x))\n",
    "        return x\n",
    "\n",
    "    def decode_logits(self, h):\n",
    "        x = tf.nn.relu(self.fc3(h))\n",
    "        x = self.fc4(x)\n",
    "\n",
    "        return x\n",
    "\n",
    "    def decode(self, h):\n",
    "        return tf.nn.sigmoid(self.decode_logits(h))\n",
    "\n",
    "    def call(self, inputs, training=None, mask=None):\n",
    "        # encoder\n",
    "        h = self.encode(inputs)\n",
    "        # decode\n",
    "        x_reconstructed_logits = self.decode_logits(h)\n",
    "\n",
    "        return x_reconstructed_logits"
   ]
  },
  {
   "cell_type": "code",
   "execution_count": null,
   "metadata": {},
   "outputs": [],
   "source": []
  }
 ],
 "metadata": {
  "kernelspec": {
   "display_name": "Python 3",
   "language": "python",
   "name": "python3"
  },
  "language_info": {
   "codemirror_mode": {
    "name": "ipython",
    "version": 3
   },
   "file_extension": ".py",
   "mimetype": "text/x-python",
   "name": "python",
   "nbconvert_exporter": "python",
   "pygments_lexer": "ipython3",
   "version": "3.6.5"
  }
 },
 "nbformat": 4,
 "nbformat_minor": 2
}
