{
 "cells": [
  {
   "cell_type": "markdown",
   "metadata": {},
   "source": [
    "# FCN for MNIST"
   ]
  },
  {
   "cell_type": "code",
   "execution_count": 1,
   "metadata": {},
   "outputs": [],
   "source": [
    "import os\n",
    "import tensorflow as tf\n",
    "from tensorflow import keras\n",
    "from tensorflow.keras import layers, optimizers, datasets\n",
    "\n",
    "os.environ['TF_CPP_MIN_LOG_LEVEL'] = '2'  # or any {'0', '1', '2'}\n",
    "\n",
    "# prepare dataset\n",
    "def mnist_dataset():\n",
    "  (x, y), _ = datasets.mnist.load_data()\n",
    "  ds = tf.data.Dataset.from_tensor_slices((x, y))\n",
    "  ds = ds.map(prepare_mnist_features_and_labels)\n",
    "  ds = ds.take(20000).shuffle(20000).batch(100)\n",
    "  return ds\n",
    "\n",
    "def prepare_mnist_features_and_labels(x, y):\n",
    "  x = tf.cast(x, tf.float32) / 255.0\n",
    "  y = tf.cast(y, tf.int64)\n",
    "  return x, y"
   ]
  },
  {
   "cell_type": "code",
   "execution_count": 2,
   "metadata": {},
   "outputs": [],
   "source": [
    "# model and optimizer\n",
    "model = keras.Sequential([\n",
    "    layers.Reshape(target_shape=(28 * 28,), input_shape=(28, 28)),\n",
    "    layers.Dense(100, activation='relu'),\n",
    "    layers.Dense(100, activation='relu'),\n",
    "    layers.Dense(10)])\n",
    "\n",
    "optimizer = optimizers.Adam()"
   ]
  },
  {
   "cell_type": "code",
   "execution_count": 3,
   "metadata": {},
   "outputs": [],
   "source": [
    "# use tf.function AutoGraph decorator to pre-compile our methods as TensorFlow computational graphs,\n",
    "# which speeds up execution and lets us take advantage of graph execution\n",
    "@tf.function\n",
    "def compute_loss(logits, labels):\n",
    "  return tf.reduce_mean(\n",
    "      tf.nn.sparse_softmax_cross_entropy_with_logits(\n",
    "          logits=logits, labels=labels))\n",
    "\n",
    "@tf.function\n",
    "def compute_accuracy(logits, labels):\n",
    "  predictions = tf.argmax(logits, axis=1)\n",
    "  return tf.reduce_mean(tf.cast(tf.equal(predictions, labels), tf.float32))\n",
    "\n",
    "@tf.function\n",
    "def train_one_step(model, optimizer, x, y):\n",
    "\n",
    "  with tf.GradientTape() as tape:\n",
    "    logits = model(x)\n",
    "    loss = compute_loss(logits, y)\n",
    "\n",
    "  # compute gradient\n",
    "  grads = tape.gradient(loss, model.trainable_variables)\n",
    "  # update to weights\n",
    "  optimizer.apply_gradients(zip(grads, model.trainable_variables))\n",
    "\n",
    "  accuracy = compute_accuracy(logits, y)\n",
    "\n",
    "  # loss and accuracy is scalar tensor\n",
    "  return loss, accuracy\n",
    "\n",
    "def train(epoch, model, optimizer):\n",
    "\n",
    "  train_ds = mnist_dataset()\n",
    "  loss = 0.0\n",
    "  accuracy = 0.0\n",
    "  for step, (x, y) in enumerate(train_ds):\n",
    "    loss, accuracy = train_one_step(model, optimizer, x, y)\n",
    "\n",
    "    if step % 500 == 0:\n",
    "      print('epoch', epoch, ': loss', loss.numpy(), '; accuracy', accuracy.numpy())\n",
    "\n",
    "  return loss, accuracy"
   ]
  },
  {
   "cell_type": "code",
   "execution_count": 4,
   "metadata": {},
   "outputs": [
    {
     "name": "stdout",
     "output_type": "stream",
     "text": [
      "epoch 0 : loss 2.3110988 ; accuracy 0.15\n",
      "epoch 1 : loss 0.22865477 ; accuracy 0.93\n",
      "epoch 2 : loss 0.18898547 ; accuracy 0.96\n",
      "epoch 3 : loss 0.13139334 ; accuracy 0.94\n",
      "epoch 4 : loss 0.03553383 ; accuracy 1.0\n",
      "epoch 5 : loss 0.037525058 ; accuracy 0.98\n",
      "epoch 6 : loss 0.098354384 ; accuracy 0.97\n",
      "epoch 7 : loss 0.036032073 ; accuracy 1.0\n",
      "epoch 8 : loss 0.022304907 ; accuracy 1.0\n",
      "epoch 9 : loss 0.028236784 ; accuracy 0.99\n",
      "epoch 10 : loss 0.044171724 ; accuracy 0.98\n",
      "epoch 11 : loss 0.015108623 ; accuracy 1.0\n",
      "epoch 12 : loss 0.03195681 ; accuracy 1.0\n",
      "epoch 13 : loss 0.0112390695 ; accuracy 1.0\n",
      "epoch 14 : loss 0.005784154 ; accuracy 1.0\n",
      "epoch 15 : loss 0.008379533 ; accuracy 1.0\n",
      "epoch 16 : loss 0.0015999537 ; accuracy 1.0\n",
      "epoch 17 : loss 0.0024645757 ; accuracy 1.0\n",
      "epoch 18 : loss 0.00086642767 ; accuracy 1.0\n",
      "epoch 19 : loss 0.0014857827 ; accuracy 1.0\n",
      "Final epoch 19 : loss 0.0038536042 ; accuracy 1.0\n"
     ]
    }
   ],
   "source": [
    "for epoch in range(20):\n",
    "  loss, accuracy = train(epoch, model, optimizer)\n",
    "\n",
    "print('Final epoch', epoch, ': loss', loss.numpy(), '; accuracy', accuracy.numpy())"
   ]
  },
  {
   "cell_type": "markdown",
   "metadata": {},
   "source": [
    "# DNN"
   ]
  },
  {
   "cell_type": "code",
   "execution_count": 5,
   "metadata": {},
   "outputs": [],
   "source": [
    "import os\n",
    "import time\n",
    "import numpy as np\n",
    "import tensorflow as tf\n",
    "from tensorflow.python.ops import summary_ops_v2\n",
    "from tensorflow import keras\n",
    "from tensorflow.keras import datasets, layers, models, optimizers, metrics\n",
    "\n",
    "os.environ['TF_CPP_MIN_LOG_LEVEL'] = '2'  # or any {'0', '1', '2'}\n",
    "\n",
    "\n",
    "def mnist_datasets():\n",
    "    (x_train, y_train), (x_test, y_test) = datasets.mnist.load_data()\n",
    "    # Numpy defaults to dtype=float64; TF defaults to float32. Stick with float32.\n",
    "    x_train, x_test = x_train / np.float32(255), x_test / np.float32(255)\n",
    "    y_train, y_test = y_train.astype(np.int64), y_test.astype(np.int64)\n",
    "    train_dataset = tf.data.Dataset.from_tensor_slices((x_train, y_train))\n",
    "    test_dataset = tf.data.Dataset.from_tensor_slices((x_test, y_test))\n",
    "    return train_dataset, test_dataset\n",
    "\n",
    "\n",
    "train_ds, test_ds = mnist_datasets()\n",
    "train_ds = train_ds.shuffle(60000).batch(100)\n",
    "test_ds = test_ds.batch(100)"
   ]
  },
  {
   "cell_type": "code",
   "execution_count": 6,
   "metadata": {},
   "outputs": [],
   "source": [
    "model = tf.keras.Sequential([\n",
    "    layers.Reshape(\n",
    "        target_shape=[28, 28, 1],\n",
    "        input_shape=(28, 28,)),\n",
    "    layers.Conv2D(2, 5, padding='same', activation=tf.nn.relu),\n",
    "    layers.MaxPooling2D((2, 2), (2, 2), padding='same'),\n",
    "    layers.Conv2D(4, 5, padding='same', activation=tf.nn.relu),\n",
    "    layers.MaxPooling2D((2, 2), (2, 2), padding='same'),\n",
    "    layers.Flatten(),\n",
    "    layers.Dense(32, activation=tf.nn.relu),\n",
    "    layers.Dropout(rate=0.4),\n",
    "    layers.Dense(10)])\n",
    "\n",
    "optimizer = optimizers.SGD(learning_rate=0.01, momentum=0.5)"
   ]
  },
  {
   "cell_type": "code",
   "execution_count": 9,
   "metadata": {},
   "outputs": [],
   "source": [
    "# In addition to the training procedure, we'll also write test() method for evaluation, \n",
    "# and use tf.python.summary_ops_v2 to record training summaries to TensorBoard\n",
    "compute_loss = tf.keras.losses.SparseCategoricalCrossentropy(from_logits=True)\n",
    "compute_accuracy = tf.keras.metrics.SparseCategoricalAccuracy()\n",
    "\n",
    "def train_step(model, optimizer, images, labels):\n",
    "\n",
    "    # Record the operations used to compute the loss, so that the gradient\n",
    "    # of the loss with respect to the variables can be computed.\n",
    "    with tf.GradientTape() as tape:\n",
    "        logits = model(images, training=True)\n",
    "        loss = compute_loss(labels, logits)\n",
    "        compute_accuracy(labels, logits)\n",
    "\n",
    "    grads = tape.gradient(loss, model.trainable_variables)\n",
    "    optimizer.apply_gradients(zip(grads, model.trainable_variables))\n",
    "\n",
    "    return loss\n",
    "\n",
    "def train(model, optimizer, dataset, log_freq=50):\n",
    "    \"\"\"\n",
    "    Trains model on `dataset` using `optimizer`.\n",
    "    \"\"\"\n",
    "    # Metrics are stateful. They accumulate values and return a cumulative\n",
    "    # result when you call .result(). Clear accumulated values with .reset_states()\n",
    "    avg_loss = metrics.Mean('loss', dtype=tf.float32)\n",
    "\n",
    "    # Datasets can be iterated over like any other Python iterable.\n",
    "    for images, labels in dataset:\n",
    "        loss = train_step(model, optimizer, images, labels)\n",
    "        avg_loss(loss)\n",
    "\n",
    "        if tf.equal(optimizer.iterations % log_freq, 0):\n",
    "            # summary_ops_v2.scalar('loss', avg_loss.result(), step=optimizer.iterations)\n",
    "            # summary_ops_v2.scalar('accuracy', compute_accuracy.result(), step=optimizer.iterations)\n",
    "            print('step:', int(optimizer.iterations),\n",
    "                  'loss:', avg_loss.result().numpy(),\n",
    "                  'acc:', compute_accuracy.result().numpy())\n",
    "            avg_loss.reset_states()\n",
    "            compute_accuracy.reset_states()\n",
    "\n",
    "def test(model, dataset, step_num):\n",
    "    \"\"\"\n",
    "    Perform an evaluation of `model` on the examples from `dataset`.\n",
    "    \"\"\"\n",
    "    avg_loss = metrics.Mean('loss', dtype=tf.float32)\n",
    "\n",
    "    for (images, labels) in dataset:\n",
    "        logits = model(images, training=False)\n",
    "        avg_loss(compute_loss(labels, logits))\n",
    "        compute_accuracy(labels, logits)\n",
    "\n",
    "    print('Model test set loss: {:0.4f} accuracy: {:0.2f}%'.format(\n",
    "        avg_loss.result(), compute_accuracy.result() * 100))\n",
    "\n",
    "    print('loss:', avg_loss.result(), 'acc:', compute_accuracy.result())\n",
    "    # summary_ops_v2.scalar('loss', avg_loss.result(), step=step_num)\n",
    "    # summary_ops_v2.scalar('accuracy', compute_accuracy.result(), step=step_num)"
   ]
  },
  {
   "cell_type": "code",
   "execution_count": 10,
   "metadata": {},
   "outputs": [
    {
     "data": {
      "text/plain": [
       "<tensorflow.python.training.tracking.util.InitializationOnlyStatus at 0x113d12ba8>"
      ]
     },
     "execution_count": 10,
     "metadata": {},
     "output_type": "execute_result"
    }
   ],
   "source": [
    "# create a tf.train.Checkpoint file to save parameters to while training\n",
    "# Where to save checkpoints, tensorboard summaries, etc.\n",
    "MODEL_DIR = '/tmp/tensorflow/mnist'\n",
    "\n",
    "\n",
    "def apply_clean():\n",
    "    if tf.io.gfile.exists(MODEL_DIR):\n",
    "        print('Removing existing model dir: {}'.format(MODEL_DIR))\n",
    "        tf.io.gfile.rmtree(MODEL_DIR)\n",
    "\n",
    "\n",
    "apply_clean()\n",
    "\n",
    "checkpoint_dir = os.path.join(MODEL_DIR, 'checkpoints')\n",
    "checkpoint_prefix = os.path.join(checkpoint_dir, 'ckpt')\n",
    "\n",
    "checkpoint = tf.train.Checkpoint(model=model, optimizer=optimizer)\n",
    "\n",
    "# Restore variables on creation if a checkpoint exists.\n",
    "checkpoint.restore(tf.train.latest_checkpoint(checkpoint_dir))"
   ]
  },
  {
   "cell_type": "code",
   "execution_count": 11,
   "metadata": {},
   "outputs": [
    {
     "name": "stdout",
     "output_type": "stream",
     "text": [
      "step: 500 loss: 1.5720851 acc: 0.45598\n",
      "Train time for epoch #1 (600 total steps): 26.88482093811035\n",
      "saved checkpoint.\n",
      "step: 1000 loss: 0.65799505 acc: 0.77728\n",
      "Train time for epoch #2 (1200 total steps): 26.99717903137207\n",
      "saved checkpoint.\n",
      "step: 1500 loss: 0.50139576 acc: 0.83106\n",
      "Train time for epoch #3 (1800 total steps): 26.414993047714233\n",
      "saved checkpoint.\n",
      "step: 2000 loss: 0.43118912 acc: 0.85802\n",
      "Train time for epoch #4 (2400 total steps): 26.68222212791443\n",
      "saved checkpoint.\n",
      "step: 2500 loss: 0.37989303 acc: 0.87744\n",
      "step: 3000 loss: 0.3546334 acc: 0.8897\n",
      "Train time for epoch #5 (3000 total steps): 25.871748208999634\n",
      "saved checkpoint.\n"
     ]
    },
    {
     "name": "stderr",
     "output_type": "stream",
     "text": [
      "WARNING: Logging before flag parsing goes to stderr.\n",
      "W1009 13:13:53.644296 4727756224 deprecation.py:506] From /anaconda3/lib/python3.6/site-packages/tensorflow_core/python/ops/resource_variable_ops.py:1781: calling BaseResourceVariable.__init__ (from tensorflow.python.ops.resource_variable_ops) with constraint is deprecated and will be removed in a future version.\n",
      "Instructions for updating:\n",
      "If using Keras pass *_constraint arguments to layers.\n"
     ]
    },
    {
     "name": "stdout",
     "output_type": "stream",
     "text": [
      "saved SavedModel for exporting.\n"
     ]
    }
   ],
   "source": [
    "# training\n",
    "NUM_TRAIN_EPOCHS = 5\n",
    "\n",
    "for i in range(NUM_TRAIN_EPOCHS):\n",
    "    start = time.time()\n",
    "    #   with train_summary_writer.as_default():\n",
    "    train(model, optimizer, train_ds, log_freq=500)\n",
    "    end = time.time()\n",
    "    print('Train time for epoch #{} ({} total steps): {}'.format(\n",
    "        i + 1, int(optimizer.iterations), end - start))\n",
    "    #   with test_summary_writer.as_default():\n",
    "    #     test(model, test_ds, optimizer.iterations)\n",
    "    checkpoint.save(checkpoint_prefix)\n",
    "    print('saved checkpoint.')\n",
    "\n",
    "export_path = os.path.join(MODEL_DIR, 'export')\n",
    "tf.saved_model.save(model, export_path)\n",
    "print('saved SavedModel for exporting.')"
   ]
  },
  {
   "cell_type": "code",
   "execution_count": null,
   "metadata": {},
   "outputs": [],
   "source": []
  }
 ],
 "metadata": {
  "kernelspec": {
   "display_name": "Python 3",
   "language": "python",
   "name": "python3"
  },
  "language_info": {
   "codemirror_mode": {
    "name": "ipython",
    "version": 3
   },
   "file_extension": ".py",
   "mimetype": "text/x-python",
   "name": "python",
   "nbconvert_exporter": "python",
   "pygments_lexer": "ipython3",
   "version": "3.6.5"
  }
 },
 "nbformat": 4,
 "nbformat_minor": 2
}
