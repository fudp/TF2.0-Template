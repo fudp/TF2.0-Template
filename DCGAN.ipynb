{
 "cells": [
  {
   "cell_type": "markdown",
   "metadata": {},
   "source": [
    "## Deep Convolutional Generative Adversarial Network for adversarial image generation"
   ]
  },
  {
   "cell_type": "code",
   "execution_count": 1,
   "metadata": {},
   "outputs": [],
   "source": [
    "import tensorflow as tf\n",
    "from tensorflow import keras\n",
    "\n",
    "class Generator(keras.Model):\n",
    "\n",
    "    def __init__(self):\n",
    "        super(Generator, self).__init__()\n",
    "\n",
    "        self.n_f = 512\n",
    "        self.n_k = 4\n",
    "\n",
    "        # input z vector is [None, 100]\n",
    "        self.dense1 = keras.layers.Dense(3 * 3 * self.n_f)\n",
    "        self.conv2 = keras.layers.Conv2DTranspose(self.n_f // 2, 3, 2, 'valid')\n",
    "        self.bn2 = keras.layers.BatchNormalization()\n",
    "        self.conv3 = keras.layers.Conv2DTranspose(self.n_f // 4, self.n_k, 2, 'same')\n",
    "        self.bn3 = keras.layers.BatchNormalization()\n",
    "        self.conv4 = keras.layers.Conv2DTranspose(1, self.n_k, 2, 'same')\n",
    "        return\n",
    "\n",
    "    def call(self, inputs, training=None):\n",
    "        # [b, 100] => [b, 3, 3, 512]\n",
    "        x = tf.nn.leaky_relu(tf.reshape(self.dense1(inputs), shape=[-1, 3, 3, self.n_f]))\n",
    "        x = tf.nn.leaky_relu(self.bn2(self.conv2(x), training=training))\n",
    "        x = tf.nn.leaky_relu(self.bn3(self.conv3(x), training=training))\n",
    "        x = tf.tanh(self.conv4(x))\n",
    "        return x\n",
    "\n",
    "\n",
    "class Discriminator(keras.Model):\n",
    "\n",
    "    def __init__(self):\n",
    "        super(Discriminator, self).__init__()\n",
    "\n",
    "        self.n_f = 64\n",
    "        self.n_k = 4\n",
    "\n",
    "        # input image is [-1, 28, 28, 1]\n",
    "        self.conv1 = keras.layers.Conv2D(self.n_f, self.n_k, 2, 'same')\n",
    "        self.conv2 = keras.layers.Conv2D(self.n_f * 2, self.n_k, 2, 'same')\n",
    "        self.bn2 = keras.layers.BatchNormalization()\n",
    "        self.conv3 = keras.layers.Conv2D(self.n_f * 4, self.n_k, 2, 'same')\n",
    "        self.bn3 = keras.layers.BatchNormalization()\n",
    "        self.flatten4 = keras.layers.Flatten()\n",
    "        self.dense4 = keras.layers.Dense(1)\n",
    "        return\n",
    "\n",
    "    def call(self, inputs, training=None):\n",
    "        x = tf.nn.leaky_relu(self.conv1(inputs))\n",
    "        x = tf.nn.leaky_relu(self.bn2(self.conv2(x), training=training))\n",
    "        x = tf.nn.leaky_relu(self.bn3(self.conv3(x), training=training))\n",
    "        x = self.dense4(self.flatten4(x))\n",
    "        return x"
   ]
  }
 ],
 "metadata": {
  "kernelspec": {
   "display_name": "Python 3",
   "language": "python",
   "name": "python3"
  },
  "language_info": {
   "codemirror_mode": {
    "name": "ipython",
    "version": 3
   },
   "file_extension": ".py",
   "mimetype": "text/x-python",
   "name": "python",
   "nbconvert_exporter": "python",
   "pygments_lexer": "ipython3",
   "version": "3.6.5"
  }
 },
 "nbformat": 4,
 "nbformat_minor": 2
}
